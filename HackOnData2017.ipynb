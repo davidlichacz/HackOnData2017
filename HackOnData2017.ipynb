{
 "cells": [
  {
   "cell_type": "markdown",
   "metadata": {},
   "source": [
    "# Do People Love Their Pets More Than Their Children?: \n",
    "# A Topic Analysis of Amazon Reviews"
   ]
  },
  {
   "cell_type": "markdown",
   "metadata": {},
   "source": [
    "## Introduction\n",
    "Studies have shown that pets and babies evoke similar emotional responses in the brains of mothers.  Research has shown that children have better relationships with their pets than they do with their siblings.  Pope Francis has expressed concern about the number of married couples choosing to forego having children in favour of having pets.\n",
    "\n",
    "This project will perform a topic analysis of Amazon reviews of both baby products and pet supplies to see if there is any evidence of an equla or greater love of our pets than our children in the way in which we evaluate the products we buy for them."
   ]
  },
  {
   "cell_type": "markdown",
   "metadata": {},
   "source": [
    "## Methodology\n",
    "Before beginning this task, we must decide on how we are going to measure love - a difficult proposition to be sure!  For the purposes of this analysis, we will consider product reviews that focus on the practical qualities of a product (safety, health) and constrast them with reviews that instead focus on more superficial qualities (price, appearance).\n",
    "\n",
    "We will use a Latent Dirichlet Allocation (LDA) model to cluster reviews into various topics that we will infer from key words.  We will then compare the most popular topics across each group using our practical vs. superficial model above.   "
   ]
  },
  {
   "cell_type": "markdown",
   "metadata": {},
   "source": [
    "## Assumptions\n",
    "The LDA model assumes that each document (in this case, the entire corpus of reviews) is made up of a particular set of topics.  It is also assumed that each topic is a collection of words that each has a probability of appearing within the text.\n",
    "\n",
    "Considering that each of our product groupings contains a finite number of product types and each product has a finite number of qualities to describe it, I believe that these are reasonable assumption to make here.\n",
    "\n",
    "With that said, let's look at our data."
   ]
  },
  {
   "cell_type": "code",
   "execution_count": 1,
   "metadata": {
    "collapsed": true
   },
   "outputs": [],
   "source": [
    "import pandas as pd\n",
    "import gzip\n",
    "from nltk.tokenize import RegexpTokenizer\n",
    "from nltk.corpus import stopwords\n",
    "from nltk.stem.wordnet import WordNetLemmatizer\n",
    "from gensim import corpora, models\n",
    "import gensim\n",
    "import nltk\n",
    "from collections import Counter\n",
    "import numpy as np\n",
    "import matplotlib.pyplot as plt\n",
    "from wordcloud import WordCloud"
   ]
  },
  {
   "cell_type": "code",
   "execution_count": 2,
   "metadata": {
    "collapsed": true
   },
   "outputs": [],
   "source": [
    "# Import the data.\n",
    "\n",
    "def parse(path):\n",
    "    g = gzip.open(path, 'rb')\n",
    "    for l in g:\n",
    "        yield eval(l)\n",
    "\n",
    "def getDF(path):\n",
    "    i = 0\n",
    "    df = {}\n",
    "    for d in parse(path):\n",
    "        df[i] = d\n",
    "        i += 1\n",
    "    return pd.DataFrame.from_dict(df, orient='index')\n",
    "\n",
    "baby = getDF('/Users/davidlichacz/Documents/HackOnData2017/reviews_Baby_5.json.gz')\n",
    "pets = getDF('/Users/davidlichacz/Documents/HackOnData2017/reviews_Pet_Supplies_5.json.gz')"
   ]
  },
  {
   "cell_type": "code",
   "execution_count": 3,
   "metadata": {},
   "outputs": [
    {
     "data": {
      "text/html": [
       "<div>\n",
       "<style>\n",
       "    .dataframe thead tr:only-child th {\n",
       "        text-align: right;\n",
       "    }\n",
       "\n",
       "    .dataframe thead th {\n",
       "        text-align: left;\n",
       "    }\n",
       "\n",
       "    .dataframe tbody tr th {\n",
       "        vertical-align: top;\n",
       "    }\n",
       "</style>\n",
       "<table border=\"1\" class=\"dataframe\">\n",
       "  <thead>\n",
       "    <tr style=\"text-align: right;\">\n",
       "      <th></th>\n",
       "      <th>reviewerID</th>\n",
       "      <th>asin</th>\n",
       "      <th>reviewerName</th>\n",
       "      <th>helpful</th>\n",
       "      <th>reviewText</th>\n",
       "      <th>overall</th>\n",
       "      <th>summary</th>\n",
       "      <th>unixReviewTime</th>\n",
       "      <th>reviewTime</th>\n",
       "    </tr>\n",
       "  </thead>\n",
       "  <tbody>\n",
       "    <tr>\n",
       "      <th>0</th>\n",
       "      <td>A1HK2FQW6KXQB2</td>\n",
       "      <td>097293751X</td>\n",
       "      <td>Amanda Johnsen \"Amanda E. Johnsen\"</td>\n",
       "      <td>[0, 0]</td>\n",
       "      <td>Perfect for new parents. We were able to keep ...</td>\n",
       "      <td>5.0</td>\n",
       "      <td>Awesine</td>\n",
       "      <td>1373932800</td>\n",
       "      <td>07 16, 2013</td>\n",
       "    </tr>\n",
       "    <tr>\n",
       "      <th>1</th>\n",
       "      <td>A19K65VY14D13R</td>\n",
       "      <td>097293751X</td>\n",
       "      <td>angela</td>\n",
       "      <td>[0, 0]</td>\n",
       "      <td>This book is such a life saver.  It has been s...</td>\n",
       "      <td>5.0</td>\n",
       "      <td>Should be required for all new parents!</td>\n",
       "      <td>1372464000</td>\n",
       "      <td>06 29, 2013</td>\n",
       "    </tr>\n",
       "    <tr>\n",
       "      <th>2</th>\n",
       "      <td>A2LL1TGG90977E</td>\n",
       "      <td>097293751X</td>\n",
       "      <td>Carter</td>\n",
       "      <td>[0, 0]</td>\n",
       "      <td>Helps me know exactly how my babies day has go...</td>\n",
       "      <td>5.0</td>\n",
       "      <td>Grandmother watching baby</td>\n",
       "      <td>1395187200</td>\n",
       "      <td>03 19, 2014</td>\n",
       "    </tr>\n",
       "    <tr>\n",
       "      <th>3</th>\n",
       "      <td>A5G19RYX8599E</td>\n",
       "      <td>097293751X</td>\n",
       "      <td>cfpurplerose</td>\n",
       "      <td>[0, 0]</td>\n",
       "      <td>I bought this a few times for my older son and...</td>\n",
       "      <td>5.0</td>\n",
       "      <td>repeat buyer</td>\n",
       "      <td>1376697600</td>\n",
       "      <td>08 17, 2013</td>\n",
       "    </tr>\n",
       "    <tr>\n",
       "      <th>4</th>\n",
       "      <td>A2496A4EWMLQ7</td>\n",
       "      <td>097293751X</td>\n",
       "      <td>C. Jeter</td>\n",
       "      <td>[0, 0]</td>\n",
       "      <td>I wanted an alternative to printing out daily ...</td>\n",
       "      <td>4.0</td>\n",
       "      <td>Great</td>\n",
       "      <td>1396310400</td>\n",
       "      <td>04 1, 2014</td>\n",
       "    </tr>\n",
       "  </tbody>\n",
       "</table>\n",
       "</div>"
      ],
      "text/plain": [
       "       reviewerID        asin                        reviewerName helpful  \\\n",
       "0  A1HK2FQW6KXQB2  097293751X  Amanda Johnsen \"Amanda E. Johnsen\"  [0, 0]   \n",
       "1  A19K65VY14D13R  097293751X                              angela  [0, 0]   \n",
       "2  A2LL1TGG90977E  097293751X                              Carter  [0, 0]   \n",
       "3   A5G19RYX8599E  097293751X                        cfpurplerose  [0, 0]   \n",
       "4   A2496A4EWMLQ7  097293751X                            C. Jeter  [0, 0]   \n",
       "\n",
       "                                          reviewText  overall  \\\n",
       "0  Perfect for new parents. We were able to keep ...      5.0   \n",
       "1  This book is such a life saver.  It has been s...      5.0   \n",
       "2  Helps me know exactly how my babies day has go...      5.0   \n",
       "3  I bought this a few times for my older son and...      5.0   \n",
       "4  I wanted an alternative to printing out daily ...      4.0   \n",
       "\n",
       "                                   summary  unixReviewTime   reviewTime  \n",
       "0                                  Awesine      1373932800  07 16, 2013  \n",
       "1  Should be required for all new parents!      1372464000  06 29, 2013  \n",
       "2                Grandmother watching baby      1395187200  03 19, 2014  \n",
       "3                             repeat buyer      1376697600  08 17, 2013  \n",
       "4                                    Great      1396310400   04 1, 2014  "
      ]
     },
     "execution_count": 3,
     "metadata": {},
     "output_type": "execute_result"
    }
   ],
   "source": [
    "# Examine the structure of the data.\n",
    "baby.head()"
   ]
  },
  {
   "cell_type": "markdown",
   "metadata": {},
   "source": [
    "Since both 'summary' and 'reviewText' are text-based fields that may provide information about the topic of the review, it will be valuable to merge these into one single field for the analysis."
   ]
  },
  {
   "cell_type": "code",
   "execution_count": 4,
   "metadata": {
    "collapsed": true
   },
   "outputs": [],
   "source": [
    "baby['fullReview'] = baby['summary'] + ' ' + baby['reviewText']\n",
    "pets['fullReview'] = pets['summary'] + ' ' + pets['reviewText']"
   ]
  },
  {
   "cell_type": "code",
   "execution_count": 5,
   "metadata": {},
   "outputs": [
    {
     "data": {
      "text/html": [
       "<div>\n",
       "<style>\n",
       "    .dataframe thead tr:only-child th {\n",
       "        text-align: right;\n",
       "    }\n",
       "\n",
       "    .dataframe thead th {\n",
       "        text-align: left;\n",
       "    }\n",
       "\n",
       "    .dataframe tbody tr th {\n",
       "        vertical-align: top;\n",
       "    }\n",
       "</style>\n",
       "<table border=\"1\" class=\"dataframe\">\n",
       "  <thead>\n",
       "    <tr style=\"text-align: right;\">\n",
       "      <th></th>\n",
       "      <th>reviewerID</th>\n",
       "      <th>asin</th>\n",
       "      <th>reviewerName</th>\n",
       "      <th>helpful</th>\n",
       "      <th>reviewText</th>\n",
       "      <th>overall</th>\n",
       "      <th>summary</th>\n",
       "      <th>unixReviewTime</th>\n",
       "      <th>reviewTime</th>\n",
       "      <th>fullReview</th>\n",
       "    </tr>\n",
       "  </thead>\n",
       "  <tbody>\n",
       "    <tr>\n",
       "      <th>0</th>\n",
       "      <td>A1HK2FQW6KXQB2</td>\n",
       "      <td>097293751X</td>\n",
       "      <td>Amanda Johnsen \"Amanda E. Johnsen\"</td>\n",
       "      <td>[0, 0]</td>\n",
       "      <td>Perfect for new parents. We were able to keep ...</td>\n",
       "      <td>5.0</td>\n",
       "      <td>Awesine</td>\n",
       "      <td>1373932800</td>\n",
       "      <td>07 16, 2013</td>\n",
       "      <td>Awesine Perfect for new parents. We were able ...</td>\n",
       "    </tr>\n",
       "    <tr>\n",
       "      <th>1</th>\n",
       "      <td>A19K65VY14D13R</td>\n",
       "      <td>097293751X</td>\n",
       "      <td>angela</td>\n",
       "      <td>[0, 0]</td>\n",
       "      <td>This book is such a life saver.  It has been s...</td>\n",
       "      <td>5.0</td>\n",
       "      <td>Should be required for all new parents!</td>\n",
       "      <td>1372464000</td>\n",
       "      <td>06 29, 2013</td>\n",
       "      <td>Should be required for all new parents! This b...</td>\n",
       "    </tr>\n",
       "    <tr>\n",
       "      <th>2</th>\n",
       "      <td>A2LL1TGG90977E</td>\n",
       "      <td>097293751X</td>\n",
       "      <td>Carter</td>\n",
       "      <td>[0, 0]</td>\n",
       "      <td>Helps me know exactly how my babies day has go...</td>\n",
       "      <td>5.0</td>\n",
       "      <td>Grandmother watching baby</td>\n",
       "      <td>1395187200</td>\n",
       "      <td>03 19, 2014</td>\n",
       "      <td>Grandmother watching baby Helps me know exactl...</td>\n",
       "    </tr>\n",
       "    <tr>\n",
       "      <th>3</th>\n",
       "      <td>A5G19RYX8599E</td>\n",
       "      <td>097293751X</td>\n",
       "      <td>cfpurplerose</td>\n",
       "      <td>[0, 0]</td>\n",
       "      <td>I bought this a few times for my older son and...</td>\n",
       "      <td>5.0</td>\n",
       "      <td>repeat buyer</td>\n",
       "      <td>1376697600</td>\n",
       "      <td>08 17, 2013</td>\n",
       "      <td>repeat buyer I bought this a few times for my ...</td>\n",
       "    </tr>\n",
       "    <tr>\n",
       "      <th>4</th>\n",
       "      <td>A2496A4EWMLQ7</td>\n",
       "      <td>097293751X</td>\n",
       "      <td>C. Jeter</td>\n",
       "      <td>[0, 0]</td>\n",
       "      <td>I wanted an alternative to printing out daily ...</td>\n",
       "      <td>4.0</td>\n",
       "      <td>Great</td>\n",
       "      <td>1396310400</td>\n",
       "      <td>04 1, 2014</td>\n",
       "      <td>Great I wanted an alternative to printing out ...</td>\n",
       "    </tr>\n",
       "  </tbody>\n",
       "</table>\n",
       "</div>"
      ],
      "text/plain": [
       "       reviewerID        asin                        reviewerName helpful  \\\n",
       "0  A1HK2FQW6KXQB2  097293751X  Amanda Johnsen \"Amanda E. Johnsen\"  [0, 0]   \n",
       "1  A19K65VY14D13R  097293751X                              angela  [0, 0]   \n",
       "2  A2LL1TGG90977E  097293751X                              Carter  [0, 0]   \n",
       "3   A5G19RYX8599E  097293751X                        cfpurplerose  [0, 0]   \n",
       "4   A2496A4EWMLQ7  097293751X                            C. Jeter  [0, 0]   \n",
       "\n",
       "                                          reviewText  overall  \\\n",
       "0  Perfect for new parents. We were able to keep ...      5.0   \n",
       "1  This book is such a life saver.  It has been s...      5.0   \n",
       "2  Helps me know exactly how my babies day has go...      5.0   \n",
       "3  I bought this a few times for my older son and...      5.0   \n",
       "4  I wanted an alternative to printing out daily ...      4.0   \n",
       "\n",
       "                                   summary  unixReviewTime   reviewTime  \\\n",
       "0                                  Awesine      1373932800  07 16, 2013   \n",
       "1  Should be required for all new parents!      1372464000  06 29, 2013   \n",
       "2                Grandmother watching baby      1395187200  03 19, 2014   \n",
       "3                             repeat buyer      1376697600  08 17, 2013   \n",
       "4                                    Great      1396310400   04 1, 2014   \n",
       "\n",
       "                                          fullReview  \n",
       "0  Awesine Perfect for new parents. We were able ...  \n",
       "1  Should be required for all new parents! This b...  \n",
       "2  Grandmother watching baby Helps me know exactl...  \n",
       "3  repeat buyer I bought this a few times for my ...  \n",
       "4  Great I wanted an alternative to printing out ...  "
      ]
     },
     "execution_count": 5,
     "metadata": {},
     "output_type": "execute_result"
    }
   ],
   "source": [
    "baby.head()"
   ]
  },
  {
   "cell_type": "markdown",
   "metadata": {},
   "source": [
    "## Tokenizing\n",
    "\n",
    "Tokenizing is the process of dividing a document into individual words and removing characters such as punctutation. For each of the datasets, I will tokenize the 'fullReview' field in order to perform some exploratory data analysis.  This process will also come into play during the main analysis."
   ]
  },
  {
   "cell_type": "code",
   "execution_count": 6,
   "metadata": {
    "collapsed": true
   },
   "outputs": [],
   "source": [
    "# Initialize the tokenizer.\n",
    "tokenizer = RegexpTokenizer(r'\\w+')"
   ]
  },
  {
   "cell_type": "code",
   "execution_count": 7,
   "metadata": {
    "collapsed": true
   },
   "outputs": [],
   "source": [
    "# Tokenize the 'fullReview' field for each dataset.\n",
    "baby_tokens = tokenizer.tokenize(' '.join(baby['fullReview']).lower())\n",
    "pets_tokens = tokenizer.tokenize(' '.join(pets['fullReview']).lower())"
   ]
  },
  {
   "cell_type": "code",
   "execution_count": 8,
   "metadata": {},
   "outputs": [
    {
     "data": {
      "text/plain": [
       "['awesine',\n",
       " 'perfect',\n",
       " 'for',\n",
       " 'new',\n",
       " 'parents',\n",
       " 'we',\n",
       " 'were',\n",
       " 'able',\n",
       " 'to',\n",
       " 'keep',\n",
       " 'track',\n",
       " 'of',\n",
       " 'baby',\n",
       " 's',\n",
       " 'feeding',\n",
       " 'sleep',\n",
       " 'and',\n",
       " 'diaper',\n",
       " 'change',\n",
       " 'schedule']"
      ]
     },
     "execution_count": 8,
     "metadata": {},
     "output_type": "execute_result"
    }
   ],
   "source": [
    "# Examine the tokens for the baby dataset.\n",
    "baby_tokens[0:20]"
   ]
  },
  {
   "cell_type": "markdown",
   "metadata": {},
   "source": [
    "## Exploratory Data Analysis\n",
    "\n",
    "Some exploratory analysis will be performed on the tokens of the two datasets for the purpose of comparison.  First, I will define a function that will produce a bar graph to compare the frequency of occurence of chosen words within the two sets of reviews."
   ]
  },
  {
   "cell_type": "code",
   "execution_count": 9,
   "metadata": {
    "collapsed": true
   },
   "outputs": [],
   "source": [
    "def make_bar_graph(word_list): \n",
    "    \n",
    "    ''' This function takes in a list of words and produces a bar graph that compares the count of each\n",
    "        word within the two datasets.'''\n",
    "    \n",
    "    # Count the number of times each word appears in the text of a review for each dataset.\n",
    "    baby_list = [token for token in baby_tokens if token in word_list]\n",
    "    baby_count = Counter(baby_list).most_common(len(word_list))\n",
    "    \n",
    "    pets_list = [token for token in pets_tokens if token in word_list]\n",
    "    pets_count = Counter(pets_list).most_common(len(word_list))\n",
    "    \n",
    "    # Combine the two sets of counts in the proper order for comparison purposes.\n",
    "    baby_count_dict = dict(baby_count)\n",
    "    pets_count_dict = dict(pets_count)\n",
    "    \n",
    "    baby_pets_count = [(word, baby_count_dict[word], pets_count_dict[word]) for word in set(baby_count_dict)]\n",
    "    sorted_count = sorted(baby_pets_count, key=lambda tup: tup[0])\n",
    "\n",
    "    # data to plot\n",
    "    groups = len(word_list)\n",
    "    labels = list(zip(*sorted_count))[0]\n",
    "    baby_counts = list(zip(*sorted_count))[1]\n",
    "    pets_counts = list(zip(*sorted_count))[2]\n",
    "\n",
    "    # create plot\n",
    "    fig, ax = plt.subplots()\n",
    "    index = np.arange(groups)\n",
    "    bar_width = 0.35\n",
    "    opacity = 0.8\n",
    "\n",
    "    rects1 = plt.bar(index, baby_counts, bar_width,\n",
    "                     alpha=opacity,\n",
    "                     color='b',\n",
    "                     label='Babies')\n",
    "\n",
    "    rects2 = plt.bar(index + bar_width, pets_counts, bar_width,\n",
    "                     alpha=opacity,\n",
    "                     color='g',\n",
    "                     label='Pets')\n",
    "\n",
    "    plt.xlabel('Word')\n",
    "    plt.ylabel('Word Count')\n",
    "    plt.title('Babies vs. Pets')\n",
    "    plt.xticks(index + bar_width, labels)\n",
    "    plt.legend()\n",
    "\n",
    "    plt.tight_layout()\n",
    "    plt.show()"
   ]
  },
  {
   "cell_type": "markdown",
   "metadata": {},
   "source": [
    "With the function defined, we can now explore the differences in frequencies in which certain words appear in the reviews for each dataset to get an idea of the importance of that concept to each group of consumer.  First, I will examine the concepts of health and safety."
   ]
  },
  {
   "cell_type": "code",
   "execution_count": 10,
   "metadata": {},
   "outputs": [
    {
     "data": {
      "image/png": "[encoded data removed]",
      "text/plain": [
       "<matplotlib.figure.Figure at 0x1a51aee10>"
      ]
     },
     "metadata": {},
     "output_type": "display_data"
    }
   ],
   "source": [
    "make_bar_graph([\"health\", \"healthy\", \"safe\", \"safety\"])"
   ]
  },
  {
   "cell_type": "markdown",
   "metadata": {},
   "source": [
    "Interestingly, the concept of health appears to be much more on the mind of pet owners, while safety appears to be a bigger issue with new parents.  Now, I will look at words that might be considered to be more superficial."
   ]
  },
  {
   "cell_type": "code",
   "execution_count": 11,
   "metadata": {},
   "outputs": [
    {
     "data": {
      "image/png": "[encoded data removed]",
      "text/plain": [
       "<matplotlib.figure.Figure at 0x1a51ac0b8>"
      ]
     },
     "metadata": {},
     "output_type": "display_data"
    }
   ],
   "source": [
    "make_bar_graph([\"cute\", \"beautiful\", \"pretty\", \"fun\"])"
   ]
  },
  {
   "cell_type": "markdown",
   "metadata": {},
   "source": [
    "It seems as if parents are more likely to use the \"superficial\" words, particularly in the case of 'cute'.  Finally, I will look at how important the cost of an item is to each group."
   ]
  },
  {
   "cell_type": "code",
   "execution_count": 12,
   "metadata": {},
   "outputs": [
    {
     "data": {
      "image/png": "[encoded data removed]",
      "text/plain": [
       "<matplotlib.figure.Figure at 0x1a554bdd8>"
      ]
     },
     "metadata": {},
     "output_type": "display_data"
    }
   ],
   "source": [
    "make_bar_graph([\"cost\", \"price\", \"expensive\", \"cheap\", \"affordable\"])"
   ]
  },
  {
   "cell_type": "markdown",
   "metadata": {},
   "source": [
    "It seems like both groups are about equal when it comes to referencing price in a review with pet owners with a slight edge with most of the words.  The one word that parents tend to use more often is 'cheap', although it could be mentioned that that word could also be used to refer to the quality of an item rather than just its price tag."
   ]
  },
  {
   "cell_type": "markdown",
   "metadata": {},
   "source": [
    "## Stop Words\n",
    "\n",
    "Stop words are the most commonly used words in a language (such as \"the\" & \"to\") that will not be useful in our analysis of topics.  From this point on, we will remove these words from our tokens."
   ]
  },
  {
   "cell_type": "code",
   "execution_count": 13,
   "metadata": {
    "collapsed": true
   },
   "outputs": [],
   "source": [
    "# Import list of stop words.\n",
    "stop_words = stopwords.words('english')"
   ]
  },
  {
   "cell_type": "code",
   "execution_count": 14,
   "metadata": {
    "collapsed": true
   },
   "outputs": [],
   "source": [
    "# Remove stop words from the lists of tokens.\n",
    "baby_tokens_stop = [token for token in baby_tokens if not token in stop_words]\n",
    "pets_tokens_stop = [token for token in pets_tokens if not token in stop_words]"
   ]
  },
  {
   "cell_type": "markdown",
   "metadata": {},
   "source": [
    "## Word Clouds\n",
    "\n",
    "A word cloud is an image composed of words used in a particular text or subject, in which the size of each word indicates its frequency or importance.  Producing word clouds for each of our datasets may give us some insight into what is important to our consumers."
   ]
  },
  {
   "cell_type": "code",
   "execution_count": 15,
   "metadata": {
    "collapsed": true
   },
   "outputs": [],
   "source": [
    "# Produce word cloud for baby.\n",
    "wordcloud = WordCloud(width = 1000, height = 500).generate(' '.join(baby_tokens_stop))\n",
    "image = wordcloud.to_image()\n",
    "image.show()"
   ]
  },
  {
   "cell_type": "code",
   "execution_count": 16,
   "metadata": {
    "collapsed": true
   },
   "outputs": [],
   "source": [
    "# Produce word cloud for pets.\n",
    "wordcloud = WordCloud(width = 1000, height = 500).generate(' '.join(pets_tokens_stop))\n",
    "image = wordcloud.to_image()\n",
    "image.show()"
   ]
  },
  {
   "attachments": {},
   "cell_type": "markdown",
   "metadata": {},
   "source": [
    "Please see the Images folder for the word clouds."
   ]
  },
  {
   "cell_type": "markdown",
   "metadata": {},
   "source": [
    "The word clouds produce many words that are not particularly useful but a few takeaways:\n",
    "\n",
    "- The phrase 'car seat' appears prominently in the baby word cloud.  This is in line with our previously observed focus on safety.\n",
    "\n",
    "- The phrases 'month old' and 'months old' appear in the baby cloud indicating the age/size of a baby is important when choosing a product.\n",
    "\n",
    "- The terms 'dog food' and 'cat food' are visible in the pets word cloud which, again, confirms a previously observed focus on health from pet owners.  \n",
    "\n",
    "- In the pet word cloud, the terms 'dogs love' and 'cats love' are visible.  Perhaps, an indication that pet owners are more focused on making their pet happy while new parents are more concerned with a baby's need."
   ]
  },
  {
   "cell_type": "markdown",
   "metadata": {},
   "source": [
    "## Preprocessing the data\n",
    "In order to prepare the datasets for Latent Dirichlet Allocation, several preprocessing steps will need to be taken.  To start, due to time constraints, a sample of the datasets will be taken and then split into training and test sets."
   ]
  },
  {
   "cell_type": "code",
   "execution_count": 17,
   "metadata": {
    "collapsed": true
   },
   "outputs": [],
   "source": [
    "# Take samples of the overall datasets and split them into training and test sets.\n",
    "baby_sample = baby.sample(frac=0.2,random_state=500)\n",
    "baby_train = baby_sample.sample(frac=.7,random_state=500)\n",
    "baby_test = baby_sample.drop(baby_train.index)\n",
    "\n",
    "pets_sample = pets.sample(frac=0.2,random_state=500)\n",
    "pets_train = pets_sample.sample(frac=.7,random_state=500)\n",
    "pets_test = pets_sample.drop(pets_train.index)"
   ]
  },
  {
   "cell_type": "markdown",
   "metadata": {},
   "source": [
    "## Lemmatization\n",
    "Lemmatization is the process of grouping together the inflected forms of a word so they can be analysed as a single \n",
    "item identified by the word's dictionary form (lemma).  After this step, for example, the words 'safe' and 'safety' will not have to be treated separately as they were at the exploratory phase.\n",
    "\n",
    "There is a similar process called stemming which could also be used here.  However, stemming is a more crude approach that removes the endings of words to group into common forms.  Lemmatization is more complex and takes the context and meaning of the word into account.  For example, the words 'good' and 'better' have the same lemma and will be grouped by lemmatization.  As a result, lemmatization is the process that will be used here."
   ]
  },
  {
   "cell_type": "code",
   "execution_count": 18,
   "metadata": {
    "collapsed": true
   },
   "outputs": [],
   "source": [
    "# Initialize the lemmatizer.\n",
    "lemmatizer = WordNetLemmatizer()"
   ]
  },
  {
   "cell_type": "markdown",
   "metadata": {},
   "source": [
    "## Data preparation\n",
    "To prepare our test set for LDA, we must now put our review text through a three-step process:\n",
    "\n",
    "1. Tokenize\n",
    "2. Remove stop words\n",
    "3. Lemmatize\n",
    "\n",
    "A function is defined below to assist this process."
   ]
  },
  {
   "cell_type": "code",
   "execution_count": 19,
   "metadata": {
    "collapsed": true
   },
   "outputs": [],
   "source": [
    "def get_tokens(df):\n",
    "    \n",
    "    ''' A function that takes in a dataframe with a 'fullReview' field and returns \n",
    "        a list of lists of processed tokens.'''\n",
    "    \n",
    "    reviews = [df['fullReview'].iloc[i] for i in range(df.shape[0])]\n",
    "\n",
    "    review_tokens = []\n",
    "\n",
    "    for review in reviews:\n",
    "        # 3-step data processing\n",
    "        tokens = tokenizer.tokenize(review.lower())\n",
    "        stopped_tokens = [token for token in tokens if not token in stop_words]\n",
    "        lemmatized_tokens = [lemmatizer.lemmatize(token) for token in stopped_tokens]\n",
    "\n",
    "        # Add new list of processed tokens to list\n",
    "        review_tokens.append(lemmatized_tokens)\n",
    "        \n",
    "    return review_tokens"
   ]
  },
  {
   "cell_type": "code",
   "execution_count": 20,
   "metadata": {
    "collapsed": true
   },
   "outputs": [],
   "source": [
    "# Process tokens for each training dataset.\n",
    "baby_train_tokens = get_tokens(baby_train)\n",
    "pets_train_tokens = get_tokens(pets_train)"
   ]
  },
  {
   "cell_type": "code",
   "execution_count": 21,
   "metadata": {},
   "outputs": [
    {
     "data": {
      "text/plain": [
       "[['love',\n",
       "  'perfect',\n",
       "  'top',\n",
       "  'step',\n",
       "  'wanted',\n",
       "  'gate',\n",
       "  'secured',\n",
       "  'wall',\n",
       "  'pressure',\n",
       "  'mounted',\n",
       "  'awesome',\n",
       "  'saved',\n",
       "  'banister',\n",
       "  'screw',\n",
       "  'hole',\n",
       "  'great',\n",
       "  'product'],\n",
       " ['great',\n",
       "  'quality',\n",
       "  'bought',\n",
       "  'sister',\n",
       "  'love',\n",
       "  'good',\n",
       "  'quality',\n",
       "  'detail',\n",
       "  'great',\n",
       "  'handy',\n",
       "  'stroller',\n",
       "  'water',\n",
       "  'bottle',\n",
       "  'kid',\n",
       "  'snack',\n",
       "  'toy',\n",
       "  'etc']]"
      ]
     },
     "execution_count": 21,
     "metadata": {},
     "output_type": "execute_result"
    }
   ],
   "source": [
    "# Examine processed tokens.\n",
    "baby_train_tokens[0:2]"
   ]
  },
  {
   "cell_type": "markdown",
   "metadata": {},
   "source": [
    "## Document-term matrix\n",
    "In order to generate our LDA model, we will need to have an understanding of the frequency of each word within a document.  The Dictionary function below will scan the tokens lists created above and assign each unique token an integer ID along with compiling other information such as word count."
   ]
  },
  {
   "cell_type": "code",
   "execution_count": 22,
   "metadata": {
    "collapsed": true
   },
   "outputs": [],
   "source": [
    "# Assign integer ids to each unique token.\n",
    "baby_dict = corpora.Dictionary(baby_train_tokens)\n",
    "pets_dict = corpora.Dictionary(pets_train_tokens)"
   ]
  },
  {
   "cell_type": "code",
   "execution_count": 23,
   "metadata": {},
   "outputs": [
    {
     "name": "stdout",
     "output_type": "stream",
     "text": [
      "Dictionary(22949 unique tokens: ['love', 'perfect', 'top', 'step', 'wanted']...)\n"
     ]
    }
   ],
   "source": [
    "print(baby_dict)"
   ]
  },
  {
   "cell_type": "markdown",
   "metadata": {},
   "source": [
    "## Reducing noise\n",
    "We can see that the baby dictionary has 22949 unique tokens.  In order to reduce some of the noise that was evident in the word clouds above, we will filter out any tokens that appear in less than 50 documents and more than 10% of documents."
   ]
  },
  {
   "cell_type": "code",
   "execution_count": 24,
   "metadata": {
    "collapsed": true
   },
   "outputs": [],
   "source": [
    "# Filter dictionaries to reduce noise.\n",
    "baby_dict.filter_extremes(no_below=50, no_above=0.1)\n",
    "pets_dict.filter_extremes(no_below=50, no_above=0.1)"
   ]
  },
  {
   "cell_type": "code",
   "execution_count": 25,
   "metadata": {},
   "outputs": [
    {
     "name": "stdout",
     "output_type": "stream",
     "text": [
      "Dictionary(2159 unique tokens: ['top', 'step', 'wanted', 'gate', 'secured']...)\n"
     ]
    }
   ],
   "source": [
    "print(baby_dict)"
   ]
  },
  {
   "cell_type": "markdown",
   "metadata": {},
   "source": [
    "We have now reduced our baby dictionary to 2159 unique tokens.  The next step is to finalize our document-term matrix.  The doc2bow function below will convert our dictionaries above into bags of words.  The result will be a list of vectors, one for each review in our training dataset.  Each vector consists of a series of tuples where the first element of the tuple is the integer id for each word in the review and the second element is the number of times that word appears in the review.  This will complete our document-term matrix."
   ]
  },
  {
   "cell_type": "code",
   "execution_count": 26,
   "metadata": {
    "collapsed": true
   },
   "outputs": [],
   "source": [
    "# Complete document-term matricies by creating bags of words.\n",
    "baby_dtm = [baby_dict.doc2bow(token) for token in baby_train_tokens]\n",
    "pets_dtm = [pets_dict.doc2bow(token) for token in pets_train_tokens]"
   ]
  },
  {
   "cell_type": "code",
   "execution_count": 27,
   "metadata": {},
   "outputs": [
    {
     "data": {
      "text/plain": [
       "[(8, 1), (20, 4), (41, 1), (42, 1), (43, 1), (44, 1)]"
      ]
     },
     "execution_count": 27,
     "metadata": {},
     "output_type": "execute_result"
    }
   ],
   "source": [
    "# Sample vector from the baby document-term matrix.  Word #20 appears 4 times in the review while all others appear once.\n",
    "baby_dtm[4]"
   ]
  },
  {
   "cell_type": "markdown",
   "metadata": {},
   "source": [
    "## Latent Dirichlet Allocation\n",
    "It is now time to apply our LDA model.  In a nutshell, the LDA algorithm works as follows:\n",
    "1. We will tell the model how many topics we think there are.  In this case, we will use 20.\n",
    "2. The algorithm will assign every word to a temporary topic.  These topics are allocated according to a Dirichlet distribution (hence the name).\n",
    "3. The algorithm will iterate a predetermined amount of times (again 20) checking each word and updating the topic assignment based on ow prevalent that word is across topics and how prevalent topics are in the document."
   ]
  },
  {
   "cell_type": "code",
   "execution_count": 28,
   "metadata": {
    "collapsed": true
   },
   "outputs": [],
   "source": [
    "baby_lda = gensim.models.ldamodel.LdaModel(baby_dtm, num_topics=20, id2word = baby_dict, passes=20)"
   ]
  },
  {
   "cell_type": "code",
   "execution_count": 29,
   "metadata": {
    "collapsed": true
   },
   "outputs": [],
   "source": [
    "pets_lda = gensim.models.ldamodel.LdaModel(pets_dtm, num_topics=20, id2word = pets_dict, passes=20)"
   ]
  },
  {
   "cell_type": "markdown",
   "metadata": {},
   "source": [
    "## Topics\n",
    "\n",
    "With the LDA complete, we can now look at the results.  The command below show a list of 20 topics generated by the LDA for the baby dataset with an arbitrarily chosen number of key words, in this case 5.  The numbers before each word indicate the weight of the word in the given topic.\n",
    "\n",
    "We can now examine each group of words and try to infer each topic.  For example, by looking at the words for topic 0, it appears to refer to diapers.  Topic 1 seems to refer to breast pumps while topic 2 is an odd mixture of bathing and sippy cups and so on. "
   ]
  },
  {
   "cell_type": "code",
   "execution_count": 30,
   "metadata": {},
   "outputs": [
    {
     "data": {
      "text/plain": [
       "[(0,\n",
       "  '0.143*\"bag\" + 0.083*\"diaper\" + 0.028*\"pocket\" + 0.025*\"smell\" + 0.013*\"hold\"'),\n",
       " (1,\n",
       "  '0.110*\"pump\" + 0.038*\"milk\" + 0.034*\"pumping\" + 0.033*\"breast\" + 0.031*\"medela\"'),\n",
       " (2,\n",
       "  '0.099*\"cup\" + 0.048*\"water\" + 0.040*\"tub\" + 0.031*\"bath\" + 0.026*\"sippy\"'),\n",
       " (3,\n",
       "  '0.027*\"carrier\" + 0.021*\"strap\" + 0.016*\"leg\" + 0.015*\"comfortable\" + 0.011*\"weight\"'),\n",
       " (4,\n",
       "  '0.050*\"monitor\" + 0.033*\"battery\" + 0.032*\"light\" + 0.028*\"sound\" + 0.025*\"spoon\"'),\n",
       " (5,\n",
       "  '0.038*\"sleep\" + 0.025*\"night\" + 0.014*\"warm\" + 0.014*\"day\" + 0.013*\"every\"'),\n",
       " (6,\n",
       "  '0.031*\"open\" + 0.021*\"door\" + 0.020*\"handle\" + 0.019*\"close\" + 0.019*\"clip\"'),\n",
       " (7,\n",
       "  '0.059*\"blanket\" + 0.039*\"quality\" + 0.033*\"gift\" + 0.030*\"price\" + 0.021*\"new\"'),\n",
       " (8,\n",
       "  '0.107*\"stroller\" + 0.055*\"crib\" + 0.030*\"mattress\" + 0.021*\"sheet\" + 0.014*\"wheel\"'),\n",
       " (9,\n",
       "  '0.053*\"chair\" + 0.042*\"food\" + 0.035*\"clean\" + 0.026*\"tray\" + 0.023*\"potty\"'),\n",
       " (10,\n",
       "  '0.064*\"car\" + 0.020*\"child\" + 0.014*\"mirror\" + 0.013*\"strap\" + 0.011*\"base\"'),\n",
       " (11,\n",
       "  '0.070*\"diaper\" + 0.035*\"cloth\" + 0.034*\"bib\" + 0.031*\"wipe\" + 0.028*\"wash\"'),\n",
       " (12,\n",
       "  '0.161*\"bottle\" + 0.049*\"nipple\" + 0.024*\"brush\" + 0.014*\"brown\" + 0.013*\"avent\"'),\n",
       " (13,\n",
       "  '0.015*\"review\" + 0.011*\"buy\" + 0.010*\"5\" + 0.010*\"money\" + 0.009*\"day\"'),\n",
       " (14,\n",
       "  '0.049*\"size\" + 0.023*\"color\" + 0.020*\"small\" + 0.016*\"made\" + 0.015*\"big\"'),\n",
       " (15,\n",
       "  '0.022*\"gate\" + 0.019*\"pacifier\" + 0.013*\"plastic\" + 0.011*\"picture\" + 0.011*\"book\"'),\n",
       " (16,\n",
       "  '0.091*\"34\" + 0.035*\"piece\" + 0.030*\"together\" + 0.024*\"room\" + 0.021*\"look\"'),\n",
       " (17,\n",
       "  '0.048*\"pillow\" + 0.039*\"play\" + 0.031*\"pack\" + 0.029*\"bed\" + 0.027*\"head\"'),\n",
       " (18,\n",
       "  '0.086*\"cover\" + 0.069*\"pad\" + 0.063*\"cute\" + 0.040*\"changing\" + 0.027*\"mat\"'),\n",
       " (19,\n",
       "  '0.036*\"swing\" + 0.026*\"play\" + 0.021*\"music\" + 0.017*\"fun\" + 0.017*\"mobile\"')]"
      ]
     },
     "execution_count": 30,
     "metadata": {},
     "output_type": "execute_result"
    }
   ],
   "source": [
    "baby_lda.show_topics(num_topics=20,num_words=5)"
   ]
  },
  {
   "cell_type": "markdown",
   "metadata": {},
   "source": [
    "We can repeat the process for the pets dataset.  In this case, topic 0 seems to be about training collars.\n",
    "\n",
    "Topics 1 & 2 are harder to infer as they seem to be made up of rather generic words, a common problem in topic analysis.\n",
    "\n",
    "When we get to topic 3, it is somewhat easier to infer as it seems to be about pet food."
   ]
  },
  {
   "cell_type": "code",
   "execution_count": 31,
   "metadata": {},
   "outputs": [
    {
     "data": {
      "text/plain": [
       "[(0,\n",
       "  '0.090*\"collar\" + 0.036*\"training\" + 0.028*\"unit\" + 0.020*\"battery\" + 0.017*\"problem\"'),\n",
       " (1,\n",
       "  '0.062*\"price\" + 0.036*\"amazon\" + 0.036*\"store\" + 0.030*\"pet\" + 0.026*\"hair\"'),\n",
       " (2,\n",
       "  '0.048*\"light\" + 0.035*\"color\" + 0.029*\"black\" + 0.025*\"white\" + 0.020*\"carpet\"'),\n",
       " (3,\n",
       "  '0.024*\"eat\" + 0.020*\"ingredient\" + 0.016*\"healthy\" + 0.015*\"dry\" + 0.014*\"chicken\"'),\n",
       " (4,\n",
       "  '0.015*\"review\" + 0.012*\"worked\" + 0.011*\"first\" + 0.011*\"star\" + 0.010*\"week\"'),\n",
       " (5, '0.042*\"old\" + 0.032*\"kitten\" + 0.029*\"month\" + 0.027*\"1\" + 0.027*\"4\"'),\n",
       " (6,\n",
       "  '0.025*\"door\" + 0.025*\"top\" + 0.018*\"plastic\" + 0.016*\"side\" + 0.015*\"open\"'),\n",
       " (7,\n",
       "  '0.073*\"puppy\" + 0.040*\"ear\" + 0.027*\"month\" + 0.026*\"old\" + 0.018*\"pup\"'),\n",
       " (8,\n",
       "  '0.043*\"nail\" + 0.041*\"cut\" + 0.041*\"scratch\" + 0.029*\"scratching\" + 0.025*\"clipper\"'),\n",
       " (9,\n",
       "  '0.040*\"help\" + 0.035*\"flea\" + 0.034*\"skin\" + 0.029*\"coat\" + 0.029*\"seems\"'),\n",
       " (10,\n",
       "  '0.025*\"say\" + 0.017*\"know\" + 0.016*\"stick\" + 0.014*\"kind\" + 0.013*\"something\"'),\n",
       " (11,\n",
       "  '0.030*\"quality\" + 0.026*\"brand\" + 0.021*\"better\" + 0.017*\"company\" + 0.016*\"feeding\"'),\n",
       " (12,\n",
       "  '0.038*\"bag\" + 0.031*\"leash\" + 0.022*\"cage\" + 0.017*\"harness\" + 0.016*\"handle\"'),\n",
       " (13,\n",
       "  '0.067*\"ball\" + 0.040*\"chew\" + 0.027*\"last\" + 0.022*\"bone\" + 0.019*\"kong\"'),\n",
       " (14,\n",
       "  '0.086*\"water\" + 0.045*\"tank\" + 0.042*\"filter\" + 0.022*\"fountain\" + 0.022*\"fish\"'),\n",
       " (15,\n",
       "  '0.095*\"litter\" + 0.070*\"box\" + 0.023*\"odor\" + 0.018*\"waste\" + 0.017*\"scoop\"'),\n",
       " (16,\n",
       "  '0.077*\"size\" + 0.038*\"large\" + 0.028*\"perfect\" + 0.025*\"crate\" + 0.022*\"fit\"'),\n",
       " (17,\n",
       "  '0.054*\"recommend\" + 0.048*\"best\" + 0.042*\"highly\" + 0.024*\"happy\" + 0.023*\"pad\"'),\n",
       " (18,\n",
       "  '0.063*\"34\" + 0.021*\"play\" + 0.014*\"house\" + 0.014*\"know\" + 0.013*\"crazy\"'),\n",
       " (19,\n",
       "  '0.056*\"bed\" + 0.022*\"night\" + 0.020*\"seat\" + 0.017*\"cover\" + 0.017*\"cold\"')]"
      ]
     },
     "execution_count": 31,
     "metadata": {},
     "output_type": "execute_result"
    }
   ],
   "source": [
    "pets_lda.show_topics(num_topics=20,num_words=5)"
   ]
  },
  {
   "cell_type": "markdown",
   "metadata": {},
   "source": [
    "## Querying\n",
    "Now we would like to take a new word or string and query the model to see what topic is most probably associated with it.  This will be best done by writing a function.  The function will have much the same structure as when we preprocessed the test data."
   ]
  },
  {
   "cell_type": "code",
   "execution_count": 32,
   "metadata": {
    "collapsed": true
   },
   "outputs": [],
   "source": [
    "def query_model(string, dic, model):\n",
    "    ''' This function will take a string, processed dictionary and an LDA model and return the topic with \n",
    "        the highest probability of being associated with that string.'''\n",
    "    \n",
    "    # Process the string.\n",
    "    query_tokens = tokenizer.tokenize(string.lower())\n",
    "    query_stopped_tokens = [word for word in query_tokens if not word in stop_words]\n",
    "    query_lemmatized_tokens = [lemmatizer.lemmatize(word) for word in query_stopped_tokens]\n",
    "    \n",
    "    # Create document-term vector for the string.\n",
    "    id2word = gensim.corpora.Dictionary()\n",
    "    _ = id2word.merge_with(dic)\n",
    "    query = id2word.doc2bow(query_lemmatized_tokens)\n",
    "    \n",
    "    # Return highest probability topic.\n",
    "    topics = list(sorted(model[query], key=lambda x: x[1]))\n",
    "    \n",
    "    return model.print_topic(topics[-1][0])"
   ]
  },
  {
   "cell_type": "markdown",
   "metadata": {},
   "source": [
    "We can now query the model with strings of interest.  Let's query the baby model with the word 'safe' that we tested above."
   ]
  },
  {
   "cell_type": "code",
   "execution_count": 33,
   "metadata": {},
   "outputs": [
    {
     "data": {
      "text/plain": [
       "'0.064*\"car\" + 0.020*\"child\" + 0.014*\"mirror\" + 0.013*\"strap\" + 0.011*\"base\" + 0.011*\"side\" + 0.011*\"install\" + 0.010*\"carseat\" + 0.010*\"safety\" + 0.010*\"facing\"'"
      ]
     },
     "execution_count": 33,
     "metadata": {},
     "output_type": "execute_result"
    }
   ],
   "source": [
    "query_model(\"safe\", baby_dict, baby_lda)"
   ]
  },
  {
   "cell_type": "markdown",
   "metadata": {},
   "source": [
    "The topic most likely associated with 'safe' appears to relate to car seats.  Makes sense.  Let's try some other words that we experimented with previously."
   ]
  },
  {
   "cell_type": "code",
   "execution_count": 34,
   "metadata": {},
   "outputs": [
    {
     "data": {
      "text/plain": [
       "'0.086*\"cover\" + 0.069*\"pad\" + 0.063*\"cute\" + 0.040*\"changing\" + 0.027*\"mat\" + 0.027*\"wash\" + 0.018*\"washed\" + 0.016*\"super\" + 0.015*\"washing\" + 0.014*\"table\"'"
      ]
     },
     "execution_count": 34,
     "metadata": {},
     "output_type": "execute_result"
    }
   ],
   "source": [
    "query_model(\"cute\", baby_dict, baby_lda)"
   ]
  },
  {
   "cell_type": "code",
   "execution_count": 35,
   "metadata": {},
   "outputs": [
    {
     "data": {
      "text/plain": [
       "'0.059*\"blanket\" + 0.039*\"quality\" + 0.033*\"gift\" + 0.030*\"price\" + 0.021*\"new\" + 0.020*\"best\" + 0.019*\"worth\" + 0.019*\"swaddle\" + 0.018*\"item\" + 0.017*\"buy\"'"
      ]
     },
     "execution_count": 35,
     "metadata": {},
     "output_type": "execute_result"
    }
   ],
   "source": [
    "query_model(\"price\", baby_dict, baby_lda)"
   ]
  },
  {
   "cell_type": "markdown",
   "metadata": {},
   "source": [
    "So the word 'cute' returns a topic that seems to refer to changing and washing the baby.  Perhaps a little less obvious.\n",
    "\n",
    "The word 'price' returns a topic possibly about blankets, but also concerned with price, quality and value.\n",
    "\n",
    "Let's repeat the process for the pets dataset."
   ]
  },
  {
   "cell_type": "code",
   "execution_count": 36,
   "metadata": {},
   "outputs": [
    {
     "data": {
      "text/plain": [
       "'0.054*\"recommend\" + 0.048*\"best\" + 0.042*\"highly\" + 0.024*\"happy\" + 0.023*\"pad\" + 0.018*\"ever\" + 0.017*\"wonderful\" + 0.013*\"dish\" + 0.013*\"anyone\" + 0.012*\"recommended\"'"
      ]
     },
     "execution_count": 36,
     "metadata": {},
     "output_type": "execute_result"
    }
   ],
   "source": [
    "query_model(\"safe\", pets_dict, pets_lda)"
   ]
  },
  {
   "cell_type": "code",
   "execution_count": 37,
   "metadata": {},
   "outputs": [
    {
     "data": {
      "text/plain": [
       "'0.073*\"puppy\" + 0.040*\"ear\" + 0.027*\"month\" + 0.026*\"old\" + 0.018*\"pup\" + 0.018*\"mix\" + 0.016*\"chew\" + 0.015*\"lab\" + 0.014*\"infection\" + 0.014*\"shepherd\"'"
      ]
     },
     "execution_count": 37,
     "metadata": {},
     "output_type": "execute_result"
    }
   ],
   "source": [
    "query_model(\"cute\", pets_dict, pets_lda)"
   ]
  },
  {
   "cell_type": "code",
   "execution_count": 38,
   "metadata": {},
   "outputs": [
    {
     "data": {
      "text/plain": [
       "'0.062*\"price\" + 0.036*\"amazon\" + 0.036*\"store\" + 0.030*\"pet\" + 0.026*\"hair\" + 0.024*\"brush\" + 0.021*\"buy\" + 0.014*\"cheaper\" + 0.013*\"money\" + 0.013*\"better\"'"
      ]
     },
     "execution_count": 38,
     "metadata": {},
     "output_type": "execute_result"
    }
   ],
   "source": [
    "query_model(\"price\", pets_dict, pets_lda)"
   ]
  },
  {
   "cell_type": "markdown",
   "metadata": {},
   "source": [
    "'Safe' returns a generic topic but one in which all of the words seem very positive about the product.  'Cute' returns a topic in which many of the terms seems to refer to puppies. Puppies are cute, right?  'Price' returns a topic in which many of the terms refer to the cost and value of the product.\n",
    "\n",
    "Now that we can query the model, let's do it for every review in the test datasets."
   ]
  },
  {
   "cell_type": "code",
   "execution_count": 39,
   "metadata": {
    "collapsed": true
   },
   "outputs": [],
   "source": [
    "baby_test['topic'] = baby_test['fullReview'].apply(query_model, args=(baby_dict, baby_lda))\n",
    "pets_test['topic'] = pets_test['fullReview'].apply(query_model, args=(pets_dict, pets_lda))"
   ]
  },
  {
   "cell_type": "markdown",
   "metadata": {},
   "source": [
    "We can see that each review in the dataset has now been assigned a most probable topic."
   ]
  },
  {
   "cell_type": "code",
   "execution_count": 40,
   "metadata": {},
   "outputs": [
    {
     "data": {
      "text/html": [
       "<div>\n",
       "<style>\n",
       "    .dataframe thead tr:only-child th {\n",
       "        text-align: right;\n",
       "    }\n",
       "\n",
       "    .dataframe thead th {\n",
       "        text-align: left;\n",
       "    }\n",
       "\n",
       "    .dataframe tbody tr th {\n",
       "        vertical-align: top;\n",
       "    }\n",
       "</style>\n",
       "<table border=\"1\" class=\"dataframe\">\n",
       "  <thead>\n",
       "    <tr style=\"text-align: right;\">\n",
       "      <th></th>\n",
       "      <th>reviewerID</th>\n",
       "      <th>asin</th>\n",
       "      <th>reviewerName</th>\n",
       "      <th>helpful</th>\n",
       "      <th>reviewText</th>\n",
       "      <th>overall</th>\n",
       "      <th>summary</th>\n",
       "      <th>unixReviewTime</th>\n",
       "      <th>reviewTime</th>\n",
       "      <th>fullReview</th>\n",
       "      <th>topic</th>\n",
       "    </tr>\n",
       "  </thead>\n",
       "  <tbody>\n",
       "    <tr>\n",
       "      <th>104567</th>\n",
       "      <td>A2TUX40T2DWB1U</td>\n",
       "      <td>B00440CZSW</td>\n",
       "      <td>Hl2011</td>\n",
       "      <td>[0, 0]</td>\n",
       "      <td>Great for the price. I was looking for small b...</td>\n",
       "      <td>4.0</td>\n",
       "      <td>Perfect - easy to hold</td>\n",
       "      <td>1314748800</td>\n",
       "      <td>08 31, 2011</td>\n",
       "      <td>Perfect - easy to hold Great for the price. I ...</td>\n",
       "      <td>0.036*\"swing\" + 0.026*\"play\" + 0.021*\"music\" +...</td>\n",
       "    </tr>\n",
       "    <tr>\n",
       "      <th>89695</th>\n",
       "      <td>A2E87NA9LNPS2C</td>\n",
       "      <td>B00384UZUU</td>\n",
       "      <td>angiepearl</td>\n",
       "      <td>[0, 0]</td>\n",
       "      <td>This bag is awesome.  It held 4 days of diaper...</td>\n",
       "      <td>5.0</td>\n",
       "      <td>Great for cloth diapers and MORE!</td>\n",
       "      <td>1322006400</td>\n",
       "      <td>11 23, 2011</td>\n",
       "      <td>Great for cloth diapers and MORE! This bag is ...</td>\n",
       "      <td>0.070*\"diaper\" + 0.035*\"cloth\" + 0.034*\"bib\" +...</td>\n",
       "    </tr>\n",
       "    <tr>\n",
       "      <th>9218</th>\n",
       "      <td>A2DNMHBMMK54L7</td>\n",
       "      <td>B0000DEW8N</td>\n",
       "      <td>Stacie L. V. Davis \"Blooming Artichoke\"</td>\n",
       "      <td>[0, 0]</td>\n",
       "      <td>I really love this booster. My ONLY complaint ...</td>\n",
       "      <td>5.0</td>\n",
       "      <td>Great Booster!</td>\n",
       "      <td>1298851200</td>\n",
       "      <td>02 28, 2011</td>\n",
       "      <td>Great Booster! I really love this booster. My ...</td>\n",
       "      <td>0.053*\"chair\" + 0.042*\"food\" + 0.035*\"clean\" +...</td>\n",
       "    </tr>\n",
       "    <tr>\n",
       "      <th>9007</th>\n",
       "      <td>A2E73W34TVKUUB</td>\n",
       "      <td>B0000DEW8N</td>\n",
       "      <td>J. White \"JWJW2\"</td>\n",
       "      <td>[0, 0]</td>\n",
       "      <td>We purchased this booster seat based on a reco...</td>\n",
       "      <td>5.0</td>\n",
       "      <td>Great Booster Seat!</td>\n",
       "      <td>1293580800</td>\n",
       "      <td>12 29, 2010</td>\n",
       "      <td>Great Booster Seat! We purchased this booster ...</td>\n",
       "      <td>0.053*\"chair\" + 0.042*\"food\" + 0.035*\"clean\" +...</td>\n",
       "    </tr>\n",
       "    <tr>\n",
       "      <th>51869</th>\n",
       "      <td>AOE38PHHJL1SS</td>\n",
       "      <td>B001BKVA48</td>\n",
       "      <td>L. Soto \"lisotoa\"</td>\n",
       "      <td>[0, 0]</td>\n",
       "      <td>This bottles are so good. My 4 months daughter...</td>\n",
       "      <td>5.0</td>\n",
       "      <td>Love it Love it Love it!</td>\n",
       "      <td>1374537600</td>\n",
       "      <td>07 23, 2013</td>\n",
       "      <td>Love it Love it Love it! This bottles are so g...</td>\n",
       "      <td>0.161*\"bottle\" + 0.049*\"nipple\" + 0.024*\"brush...</td>\n",
       "    </tr>\n",
       "  </tbody>\n",
       "</table>\n",
       "</div>"
      ],
      "text/plain": [
       "            reviewerID        asin                             reviewerName  \\\n",
       "104567  A2TUX40T2DWB1U  B00440CZSW                                   Hl2011   \n",
       "89695   A2E87NA9LNPS2C  B00384UZUU                               angiepearl   \n",
       "9218    A2DNMHBMMK54L7  B0000DEW8N  Stacie L. V. Davis \"Blooming Artichoke\"   \n",
       "9007    A2E73W34TVKUUB  B0000DEW8N                         J. White \"JWJW2\"   \n",
       "51869    AOE38PHHJL1SS  B001BKVA48                        L. Soto \"lisotoa\"   \n",
       "\n",
       "       helpful                                         reviewText  overall  \\\n",
       "104567  [0, 0]  Great for the price. I was looking for small b...      4.0   \n",
       "89695   [0, 0]  This bag is awesome.  It held 4 days of diaper...      5.0   \n",
       "9218    [0, 0]  I really love this booster. My ONLY complaint ...      5.0   \n",
       "9007    [0, 0]  We purchased this booster seat based on a reco...      5.0   \n",
       "51869   [0, 0]  This bottles are so good. My 4 months daughter...      5.0   \n",
       "\n",
       "                                  summary  unixReviewTime   reviewTime  \\\n",
       "104567             Perfect - easy to hold      1314748800  08 31, 2011   \n",
       "89695   Great for cloth diapers and MORE!      1322006400  11 23, 2011   \n",
       "9218                       Great Booster!      1298851200  02 28, 2011   \n",
       "9007                  Great Booster Seat!      1293580800  12 29, 2010   \n",
       "51869            Love it Love it Love it!      1374537600  07 23, 2013   \n",
       "\n",
       "                                               fullReview  \\\n",
       "104567  Perfect - easy to hold Great for the price. I ...   \n",
       "89695   Great for cloth diapers and MORE! This bag is ...   \n",
       "9218    Great Booster! I really love this booster. My ...   \n",
       "9007    Great Booster Seat! We purchased this booster ...   \n",
       "51869   Love it Love it Love it! This bottles are so g...   \n",
       "\n",
       "                                                    topic  \n",
       "104567  0.036*\"swing\" + 0.026*\"play\" + 0.021*\"music\" +...  \n",
       "89695   0.070*\"diaper\" + 0.035*\"cloth\" + 0.034*\"bib\" +...  \n",
       "9218    0.053*\"chair\" + 0.042*\"food\" + 0.035*\"clean\" +...  \n",
       "9007    0.053*\"chair\" + 0.042*\"food\" + 0.035*\"clean\" +...  \n",
       "51869   0.161*\"bottle\" + 0.049*\"nipple\" + 0.024*\"brush...  "
      ]
     },
     "execution_count": 40,
     "metadata": {},
     "output_type": "execute_result"
    }
   ],
   "source": [
    "baby_test.head()"
   ]
  },
  {
   "cell_type": "markdown",
   "metadata": {},
   "source": [
    "Let's now retrieve the top five topics for each dataset."
   ]
  },
  {
   "cell_type": "code",
   "execution_count": 41,
   "metadata": {},
   "outputs": [
    {
     "data": {
      "text/plain": [
       "0.015*\"review\" + 0.011*\"buy\" + 0.010*\"5\" + 0.010*\"money\" + 0.009*\"day\" + 0.009*\"3\" + 0.008*\"year\" + 0.008*\"1\" + 0.008*\"price\" + 0.007*\"know\"                            1193\n",
       "0.036*\"swing\" + 0.026*\"play\" + 0.021*\"music\" + 0.017*\"fun\" + 0.017*\"mobile\" + 0.014*\"teething\" + 0.013*\"cute\" + 0.012*\"chew\" + 0.011*\"teether\" + 0.011*\"favorite\"        858\n",
       "0.022*\"gate\" + 0.019*\"pacifier\" + 0.013*\"plastic\" + 0.011*\"picture\" + 0.011*\"book\" + 0.010*\"pretty\" + 0.010*\"look\" + 0.009*\"something\" + 0.009*\"hard\" + 0.009*\"wall\"     653\n",
       "0.161*\"bottle\" + 0.049*\"nipple\" + 0.024*\"brush\" + 0.014*\"brown\" + 0.013*\"avent\" + 0.013*\"dr\" + 0.013*\"clean\" + 0.013*\"flow\" + 0.012*\"part\" + 0.012*\"formula\"             580\n",
       "0.053*\"chair\" + 0.042*\"food\" + 0.035*\"clean\" + 0.026*\"tray\" + 0.023*\"potty\" + 0.020*\"high\" + 0.019*\"table\" + 0.013*\"bowl\" + 0.012*\"easily\" + 0.011*\"toilet\"              569\n",
       "Name: topic, dtype: int64"
      ]
     },
     "execution_count": 41,
     "metadata": {},
     "output_type": "execute_result"
    }
   ],
   "source": [
    "baby_test['topic'].value_counts().head()"
   ]
  },
  {
   "cell_type": "code",
   "execution_count": 42,
   "metadata": {},
   "outputs": [
    {
     "data": {
      "text/plain": [
       "0.024*\"eat\" + 0.020*\"ingredient\" + 0.016*\"healthy\" + 0.015*\"dry\" + 0.014*\"chicken\" + 0.012*\"flavor\" + 0.011*\"teeth\" + 0.011*\"natural\" + 0.010*\"picky\" + 0.010*\"taste\"    1208\n",
       "0.015*\"review\" + 0.012*\"worked\" + 0.011*\"first\" + 0.011*\"star\" + 0.010*\"week\" + 0.010*\"could\" + 0.010*\"try\" + 0.010*\"see\" + 0.009*\"going\" + 0.009*\"since\"                 990\n",
       "0.067*\"ball\" + 0.040*\"chew\" + 0.027*\"last\" + 0.022*\"bone\" + 0.019*\"kong\" + 0.017*\"long\" + 0.017*\"minute\" + 0.017*\"chewer\" + 0.016*\"play\" + 0.013*\"chewing\"                891\n",
       "0.086*\"water\" + 0.045*\"tank\" + 0.042*\"filter\" + 0.022*\"fountain\" + 0.022*\"fish\" + 0.015*\"clean\" + 0.013*\"medium\" + 0.012*\"gallon\" + 0.011*\"aquarium\" + 0.011*\"pump\"       704\n",
       "0.038*\"bag\" + 0.031*\"leash\" + 0.022*\"cage\" + 0.017*\"harness\" + 0.016*\"handle\" + 0.015*\"bird\" + 0.014*\"walk\" + 0.014*\"hand\" + 0.010*\"pull\" + 0.010*\"back\"                  633\n",
       "Name: topic, dtype: int64"
      ]
     },
     "execution_count": 42,
     "metadata": {},
     "output_type": "execute_result"
    }
   ],
   "source": [
    "pets_test['topic'].value_counts().head()"
   ]
  },
  {
   "cell_type": "markdown",
   "metadata": {},
   "source": [
    "Let's look at each of these topics:\n",
    "\n",
    "Babies: Topic 1 does not appear to be about any specific product and seems very generic, possibly a lot of review on a 5-star rating.  Topic 2 is about toys/teethers.  Topic 3 seems difficult to inger.  Topic 4 is about bottles.  Topic 5 seems to be about high chairs.\n",
    "\n",
    "Topic 1 is about food.  Topic 2 features many generic words and is hard to classify.  Topic 3 is about chew toys.  Topic 4 is about fish tanks.  Topic 5 seems to focus on leashes."
   ]
  },
  {
   "cell_type": "markdown",
   "metadata": {},
   "source": [
    "## An alternative look\n",
    "While the above process provides us with a way to see which topics are most common, it is not particularly easy to read or understand.  The following tool provides us an interactive way of exploring the topics generated by the model by allowing a user to explore the meaning of each topic, how prevalent each topic is and how the topics relate to each other.  Note that the order of the topics may differ from above as this tool will only consider the training set."
   ]
  },
  {
   "cell_type": "code",
   "execution_count": 44,
   "metadata": {
    "collapsed": true
   },
   "outputs": [],
   "source": [
    "# Interactive visualization of the baby topics.\n",
    "import pyLDAvis.gensim\n",
    "\n",
    "baby_lda_vis = pyLDAvis.gensim.prepare(baby_lda, baby_dtm, baby_dict)\n",
    "pyLDAvis.display(baby_lda_vis)"
   ]
  },
  {
   "cell_type": "markdown",
   "metadata": {},
   "source": [
    "Please visit the following link for the visualization:\n",
    "\n",
    "https://cdn.rawgit.com/davidlichacz/HackOnData2017/7f5414d0/baby_lda_vis.html#topic=3&lambda=1&term="
   ]
  },
  {
   "cell_type": "markdown",
   "metadata": {},
   "source": [
    "The left panel shows the topics represented by circles, ordered by size, with the bigger circles representing more prevalent topics.  One can also easily see the calculated distance between each topic by the placement of the circle.\n",
    "\n",
    "The right panel shows the list of words associated with each topic, the overall frequency of the word (gray bar) and the estimated frequency within the topic (red bar).  The user has the option of selecting a relevancy metric which will reassign the list of top terms based on probability.  By hovering over a word in any topic, the user can see in the left panel the conditional probability of a word over the entire set of topics.\n",
    "\n",
    "Repeating a similar process as before, the top five baby topics are: \n",
    "1. A generic topic (same as topic 1 above)\n",
    "2. Car seats\n",
    "3. Generic topic focused on size\n",
    "4. Baby carriers\n",
    "5. Sleeping products"
   ]
  },
  {
   "cell_type": "code",
   "execution_count": 47,
   "metadata": {
    "collapsed": true
   },
   "outputs": [],
   "source": [
    "pets_lda_vis = pyLDAvis.gensim.prepare(pets_lda, pets_dtm, pets_dict)\n",
    "pyLDAvis.display(pets_lda_vis)"
   ]
  },
  {
   "cell_type": "markdown",
   "metadata": {},
   "source": [
    "Please visit the following link for the visualization:\n",
    "\n",
    "https://cdn.rawgit.com/davidlichacz/HackOnData2017/7f5414d0/pets_lda_vis.html#topic=0&lambda=1&term="
   ]
  },
  {
   "cell_type": "markdown",
   "metadata": {},
   "source": [
    "Using this tool, the top five pets topics are: \n",
    "1. A generic topic (same as topic 2 above)\n",
    "2. Food (same as topic 1 above)\n",
    "3. Hard to classify, but focused on the physical construction of the item.\n",
    "4. Litter boxes\n",
    "5. Fish tanks (same as topic 4 above)"
   ]
  },
  {
   "cell_type": "markdown",
   "metadata": {},
   "source": [
    "## So, do people love their pets more than their children?\n",
    "To truly determine this, we would first have to answer the age-old question \"What is love?\" which is beyond the scope of this project.  Using the practical vs. superficial argument defined in the introduction, I don't see much of a difference in the issues that seem important to new parents or pet owners.  Whether it's car seats and leashes or dog food and baby bottles, both groups seem to care about the health and safety of those they care for rather than the more superficial qualities.\n",
    "\n",
    "It could be noted money and price were factors in the most common baby topic.  However, given the greater cost of raising a child compared with owning a pet, it is understandable that budgeting would be more of an issue.  Also, a large number of the reviews were difficult to infer a topic.  Deeper analysis of these may yield different results."
   ]
  },
  {
   "cell_type": "markdown",
   "metadata": {},
   "source": [
    "## Next steps\n",
    "While this example provides an overview of topic modeling using Latent Dirichlet Allocation, there are steps that could be taken to refine the process:\n",
    "1. Using a more complete dataset: Due to time constraints, it was necessary to use a subset of the data.  I also feel that using the 5-core dataset may introduce some bias as certain products and reviewers may be overrepresented.\n",
    "2. Parameter tuning: All of the parameters for the model in this example were chosen arbitrarily.  A method for optimizing the parameters would be preferable.\n",
    "3. Bigrams: Allowing for two-word (or more) phrases at the preprocessing stage may infer different results. \n",
    "4. More complex querying: The query method in this example produces the topic with the highest probability.  However, probabilities fo all of the topics are available and these could be used to create a more flexible list of topics.  \"Car seats & price\" vs. \"Car seats & safety\", for example."
   ]
  },
  {
   "cell_type": "markdown",
   "metadata": {},
   "source": [
    "## Ideas for production\n",
    "One of the difficulties one would have in productionalizing this kind of model would be after the topics are selected.  At this point, it is necessary for human intervention to decide what subject is being refered to by the key words defined by the model.  This would make automation a challenge.  \n",
    "\n",
    "The is an extension of LDA called Labelled Latent Dirichlet Allocation (L-LDA) which assigns predetermined labels to the model turning it into a supervised topic model.  Using this technique would allow us more flexibility with production.\n",
    "\n",
    "One proposed idea would be to analyze a person's social media history.  Say, for example, you were looking for interesting Data Scientists to follow on Twitter. After following one, you find that they spend most of their time tweeting about other topics that don't interest you.  To overcome this problem, we could build an application that scrapes a person's Twitter history, perform an L-LDA on their tweets and return a chart of topics that the person actually tweets about so that a user has the information to make a more informed decision.  We could take this one step further and allow a user to filter out certain tweets so that they only see the ones that are most relevant.\n",
    "\n",
    "Some other possible uses for topic analysis in production:\n",
    "- A user's review history could be analyzed for important themes to that consumer as part of a recommender system.\n",
    "- Government could analyze the topics of tweets by region to understand what issues are of greatest importance to the electorate in real time.\n",
    "- Customer service departments could analyze incoming emails to have them automatically directed to the appropriate department.  Sentiment analysis could be added to the model to further direct the email to the appropriate person, an angry complaint being sent to a manager for example."
   ]
  }
 ],
 "metadata": {
  "kernelspec": {
   "display_name": "Python 3",
   "language": "python",
   "name": "python3"
  },
  "language_info": {
   "codemirror_mode": {
    "name": "ipython",
    "version": 3
   },
   "file_extension": ".py",
   "mimetype": "text/x-python",
   "name": "python",
   "nbconvert_exporter": "python",
   "pygments_lexer": "ipython3",
   "version": "3.6.1"
  }
 },
 "nbformat": 4,
 "nbformat_minor": 2
}
